{
 "cells": [
  {
   "cell_type": "code",
   "execution_count": 1,
   "metadata": {},
   "outputs": [],
   "source": [
    "import sys\n",
    "import os\n",
    "sys.path.append(os.path.abspath('..'))\n",
    "from src.autoencoder import Autoencoder"
   ]
  },
  {
   "cell_type": "code",
   "execution_count": 2,
   "metadata": {},
   "outputs": [],
   "source": [
    "import torch\n",
    "import torch.nn as nn\n",
    "import torch.optim as optim\n",
    "import numpy as np\n",
    "import struct\n",
    "from torch.utils.data import Dataset, DataLoader\n",
    "from torchvision import transforms"
   ]
  },
  {
   "cell_type": "code",
   "execution_count": 3,
   "metadata": {},
   "outputs": [],
   "source": [
    "class MNISTDataset(Dataset):\n",
    "    def __init__(self, images_path, labels_path, transform=None):\n",
    "        # Read images\n",
    "        with open(images_path, 'rb') as f:\n",
    "            magic, size, rows, cols = struct.unpack(\">IIII\", f.read(16))\n",
    "            self.images = np.frombuffer(f.read(), dtype=np.uint8).reshape(size, rows, cols)\n",
    "\n",
    "        # Read labels\n",
    "        with open(labels_path, 'rb') as f:\n",
    "            magic, size = struct.unpack(\">II\", f.read(8))\n",
    "            self.labels = np.frombuffer(f.read(), dtype=np.uint8)\n",
    "\n",
    "        self.transform = transform\n",
    "\n",
    "    def __len__(self):\n",
    "        return len(self.images)\n",
    "\n",
    "    def __getitem__(self, idx):\n",
    "        image = self.images[idx]\n",
    "        if self.transform:\n",
    "            image = self.transform(image)\n",
    "        else:\n",
    "            # Convert to tensor and normalize to [0,1]\n",
    "            image = torch.FloatTensor(image) / 255.0\n",
    "            image = image.unsqueeze(0)  # Add channel dimension\n",
    "        \n",
    "        # Convert label to tensor as well\n",
    "        label = torch.tensor(self.labels[idx], dtype=torch.long)\n",
    "        \n",
    "        return image, label\n",
    "    \n",
    "# Create dataset\n",
    "train_dataset = MNISTDataset(\n",
    "    images_path='../data/mnist/train-images-idx3-ubyte/train-images-idx3-ubyte',\n",
    "    labels_path='../data/mnist/train-labels-idx1-ubyte/train-labels-idx1-ubyte',\n",
    "    transform=None\n",
    ")\n",
    "\n",
    "# Create dataloader\n",
    "train_loader = DataLoader(\n",
    "    train_dataset,\n",
    "    batch_size=32,\n",
    "    shuffle=True,\n",
    "    num_workers=0\n",
    ")"
   ]
  },
  {
   "cell_type": "code",
   "execution_count": 4,
   "metadata": {},
   "outputs": [],
   "source": [
    "# Modify autoencoder for MNIST (1 channel, 28x28 images)\n",
    "autoencoder = Autoencoder(\n",
    "    input_channels=1,\n",
    "    hidden_dim_1=64,\n",
    "    hidden_dim_2=32,\n",
    "    latent_dim=16,\n",
    ")"
   ]
  },
  {
   "cell_type": "code",
   "execution_count": 5,
   "metadata": {},
   "outputs": [
    {
     "name": "stdout",
     "output_type": "stream",
     "text": [
      "Input data shape: torch.Size([32, 1, 28, 28])\n",
      "Reconstructed shape: torch.Size([32, 1, 28, 28])\n",
      "Latent shape: torch.Size([32, 16, 28, 28])\n"
     ]
    },
    {
     "name": "stderr",
     "output_type": "stream",
     "text": [
      "/var/folders/5g/_0nnj_t54m30pxpk83wpms6r0000gn/T/ipykernel_5394/2403316052.py:24: UserWarning: The given NumPy array is not writable, and PyTorch does not support non-writable tensors. This means writing to this tensor will result in undefined behavior. You may want to copy the array to protect its data or make it writable before converting it to a tensor. This type of warning will be suppressed for the rest of this program. (Triggered internally at /Users/runner/work/pytorch/pytorch/pytorch/torch/csrc/utils/tensor_numpy.cpp:212.)\n",
      "  image = torch.FloatTensor(image) / 255.0\n"
     ]
    }
   ],
   "source": [
    "sample_data, _ = next(iter(train_loader))\n",
    "print(\"Input data shape:\", sample_data.shape)  # Should be [32, 1, 28, 28]\n",
    "reconstructed, latent = autoencoder(sample_data)\n",
    "print(\"Reconstructed shape:\", reconstructed.shape)\n",
    "print(\"Latent shape:\", latent.shape)\n"
   ]
  },
  {
   "cell_type": "code",
   "execution_count": 10,
   "metadata": {},
   "outputs": [],
   "source": [
    "# Training setup\n",
    "device = torch.device('cuda' if torch.cuda.is_available() else 'cpu')\n",
    "autoencoder = autoencoder.to(device)\n",
    "criterion = nn.MSELoss()\n",
    "optimizer = optim.Adam(autoencoder.parameters(), lr=1e-3)\n",
    "num_epochs = 1\n"
   ]
  },
  {
   "cell_type": "code",
   "execution_count": 11,
   "metadata": {},
   "outputs": [
    {
     "name": "stdout",
     "output_type": "stream",
     "text": [
      "Batch data shape: torch.Size([32, 1, 28, 28])\n",
      "Reconstructed shape: torch.Size([32, 1, 28, 28])\n",
      "Original data shape: torch.Size([32, 1, 28, 28])\n",
      "Epoch: 0, Batch: 0, Loss: 0.000026\n",
      "Epoch: 0, Batch: 100, Loss: 0.000048\n",
      "Epoch: 0, Batch: 200, Loss: 0.000031\n",
      "Epoch: 0, Batch: 300, Loss: 0.000029\n",
      "Epoch: 0, Batch: 400, Loss: 0.000028\n",
      "Epoch: 0, Batch: 500, Loss: 0.000029\n",
      "Epoch: 0, Batch: 600, Loss: 0.000027\n",
      "Epoch: 0, Batch: 700, Loss: 0.000023\n",
      "Epoch: 0, Batch: 800, Loss: 0.000024\n",
      "Epoch: 0, Batch: 900, Loss: 0.000028\n",
      "Epoch: 0, Batch: 1000, Loss: 0.000021\n",
      "Epoch: 0, Batch: 1100, Loss: 0.000032\n",
      "Epoch: 0, Batch: 1200, Loss: 0.000020\n",
      "Epoch: 0, Batch: 1300, Loss: 0.000059\n",
      "Epoch: 0, Batch: 1400, Loss: 0.000036\n",
      "Epoch: 0, Batch: 1500, Loss: 0.000025\n",
      "Epoch: 0, Batch: 1600, Loss: 0.000018\n",
      "Epoch: 0, Batch: 1700, Loss: 0.000016\n",
      "Epoch: 0, Batch: 1800, Loss: 0.000028\n",
      "Epoch: 0, Average Loss: 0.000050\n"
     ]
    }
   ],
   "source": [
    "for epoch in range(num_epochs):\n",
    "    total_loss = 0\n",
    "    for batch_idx, (data, _) in enumerate(train_loader):\n",
    "        # Print shapes for first batch of first epoch\n",
    "        if epoch == 0 and batch_idx == 0:\n",
    "            print(\"Batch data shape:\", data.shape)\n",
    "        \n",
    "        data = data.to(device)\n",
    "        \n",
    "        # Forward pass\n",
    "        reconstructed, latent = autoencoder(data)\n",
    "        \n",
    "        # Print shapes for first batch of first epoch\n",
    "        if epoch == 0 and batch_idx == 0:\n",
    "            print(\"Reconstructed shape:\", reconstructed.shape)\n",
    "            print(\"Original data shape:\", data.shape)\n",
    "        \n",
    "        loss = criterion(reconstructed, data)\n",
    "        \n",
    "        # Backward pass\n",
    "        optimizer.zero_grad()\n",
    "        loss.backward()\n",
    "        optimizer.step()\n",
    "        \n",
    "        total_loss += loss.item()\n",
    "        \n",
    "        if batch_idx % 100 == 0:\n",
    "            print(f'Epoch: {epoch}, Batch: {batch_idx}, Loss: {loss.item():.6f}')\n",
    "    \n",
    "    avg_loss = total_loss / len(train_loader)\n",
    "    print(f'Epoch: {epoch}, Average Loss: {avg_loss:.6f}')"
   ]
  },
  {
   "cell_type": "code",
   "execution_count": 12,
   "metadata": {},
   "outputs": [
    {
     "data": {
      "image/png": "[encoded data removed]",
      "text/plain": [
       "<Figure size 1000x400 with 10 Axes>"
      ]
     },
     "metadata": {},
     "output_type": "display_data"
    }
   ],
   "source": [
    "import matplotlib.pyplot as plt\n",
    "\n",
    "def show_image_reconstruction(autoencoder, dataloader, device, num_images=5):\n",
    "    # Get a batch of images\n",
    "    images, _ = next(iter(dataloader))\n",
    "    \n",
    "    # Select the first num_images\n",
    "    images = images[:num_images].to(device)\n",
    "    \n",
    "    # Get reconstructions\n",
    "    with torch.no_grad():\n",
    "        reconstructed, _ = autoencoder(images)\n",
    "    \n",
    "    # Move tensors to CPU and convert to numpy for plotting\n",
    "    images = images.cpu()\n",
    "    reconstructed = reconstructed.cpu()\n",
    "    \n",
    "    # Plot original and reconstructed images\n",
    "    plt.figure(figsize=(10, 4))\n",
    "    for i in range(num_images):\n",
    "        # Original image\n",
    "        plt.subplot(2, num_images, i + 1)\n",
    "        plt.imshow(images[i][0], cmap='gray')\n",
    "        plt.axis('off')\n",
    "        if i == 0:\n",
    "            plt.title('Original')\n",
    "            \n",
    "        # Reconstructed image\n",
    "        plt.subplot(2, num_images, num_images + i + 1)\n",
    "        plt.imshow(reconstructed[i][0], cmap='gray')\n",
    "        plt.axis('off')\n",
    "        if i == 0:\n",
    "            plt.title('Reconstructed')\n",
    "    \n",
    "    plt.tight_layout()\n",
    "    plt.show()\n",
    "\n",
    "# Sample and display images\n",
    "show_image_reconstruction(autoencoder, train_loader, device)\n",
    "\n",
    "# If you want to save a specific reconstruction\n",
    "def save_reconstruction(image_path, autoencoder, image, device):\n",
    "    with torch.no_grad():\n",
    "        # Add batch dimension if needed\n",
    "        if len(image.shape) == 3:\n",
    "            image = image.unsqueeze(0)\n",
    "        \n",
    "        image = image.to(device)\n",
    "        reconstructed, _ = autoencoder(image)\n",
    "        \n",
    "        # Save the reconstructed image\n",
    "        plt.figure(figsize=(6, 3))\n",
    "        plt.subplot(1, 2, 1)\n",
    "        plt.imshow(image[0][0].cpu(), cmap='gray')\n",
    "        plt.title('Original')\n",
    "        plt.axis('off')\n",
    "        \n",
    "        plt.subplot(1, 2, 2)\n",
    "        plt.imshow(reconstructed[0][0].cpu().numpy(), cmap='gray')\n",
    "        plt.title('Reconstructed')\n",
    "        plt.axis('off')\n",
    "        \n",
    "        plt.savefig(image_path)\n",
    "        plt.close()\n",
    "\n",
    "# Example usage:\n",
    "# sample_image, _ = next(iter(train_loader))\n",
    "# save_reconstruction('reconstruction.png', autoencoder, sample_image[0], device)"
   ]
  },
  {
   "cell_type": "code",
   "execution_count": 17,
   "metadata": {},
   "outputs": [
    {
     "data": {
      "image/png": "[encoded data removed]",
      "text/plain": [
       "<Figure size 1200x300 with 5 Axes>"
      ]
     },
     "metadata": {},
     "output_type": "display_data"
    }
   ],
   "source": [
    "def generate_from_latent(autoencoder, device, num_images=5):\n",
    "    # Sample random latent vectors\n",
    "    latent_size = (num_images, 16, 7, 7)  # Adjust size based on your latent dimension\n",
    "    latent_vectors = torch.randn(latent_size).to(device)\n",
    "    \n",
    "    # Generate images\n",
    "    with torch.no_grad():\n",
    "        generated = autoencoder.decode(latent_vectors)\n",
    "    \n",
    "    # Plot generated images\n",
    "    plt.figure(figsize=(12, 3))\n",
    "    for i in range(num_images):\n",
    "        plt.subplot(1, num_images, i + 1)\n",
    "        plt.imshow(generated[i][0].cpu(), cmap='gray')\n",
    "        plt.axis('off')\n",
    "    plt.suptitle('Generated Images from Random Latent Vectors')\n",
    "    plt.show()\n",
    "\n",
    "# Generate new images\n",
    "generate_from_latent(autoencoder, device)"
   ]
  }
 ],
 "metadata": {
  "kernelspec": {
   "display_name": "venv",
   "language": "python",
   "name": "python3"
  },
  "language_info": {
   "codemirror_mode": {
    "name": "ipython",
    "version": 3
   },
   "file_extension": ".py",
   "mimetype": "text/x-python",
   "name": "python",
   "nbconvert_exporter": "python",
   "pygments_lexer": "ipython3",
   "version": "3.9.6"
  }
 },
 "nbformat": 4,
 "nbformat_minor": 2
}
